{
 "cells": [
  {
   "cell_type": "code",
   "execution_count": 1,
   "metadata": {},
   "outputs": [
    {
     "name": "stderr",
     "output_type": "stream",
     "text": [
      "/mnt/c/Users/atyag/Documents/boxPlotApp/env/lib/python3.5/importlib/_bootstrap.py:222: RuntimeWarning: numpy.dtype size changed, may indicate binary incompatibility. Expected 96, got 88\n",
      "  return f(*args, **kwds)\n"
     ]
    }
   ],
   "source": [
    "import pandas as pd\n",
    "import numpy as np"
   ]
  },
  {
   "cell_type": "code",
   "execution_count": 2,
   "metadata": {},
   "outputs": [],
   "source": [
    "data = pd.read_csv('dataset/systems_data.csv')"
   ]
  },
  {
   "cell_type": "code",
   "execution_count": 3,
   "metadata": {},
   "outputs": [
    {
     "data": {
      "text/html": [
       "<div>\n",
       "<style scoped>\n",
       "    .dataframe tbody tr th:only-of-type {\n",
       "        vertical-align: middle;\n",
       "    }\n",
       "\n",
       "    .dataframe tbody tr th {\n",
       "        vertical-align: top;\n",
       "    }\n",
       "\n",
       "    .dataframe thead th {\n",
       "        text-align: right;\n",
       "    }\n",
       "</style>\n",
       "<table border=\"1\" class=\"dataframe\">\n",
       "  <thead>\n",
       "    <tr style=\"text-align: right;\">\n",
       "      <th></th>\n",
       "      <th>Workload</th>\n",
       "      <th>FileSystem</th>\n",
       "      <th>BlockSize</th>\n",
       "      <th>InodeSize</th>\n",
       "      <th>BlockGroup</th>\n",
       "      <th>AtimeOption</th>\n",
       "      <th>JournalOption</th>\n",
       "      <th>SpecialOption</th>\n",
       "      <th>IOScheduler</th>\n",
       "      <th>Device</th>\n",
       "      <th>Throughput</th>\n",
       "    </tr>\n",
       "  </thead>\n",
       "  <tbody>\n",
       "    <tr>\n",
       "      <th>0</th>\n",
       "      <td>Data</td>\n",
       "      <td>ext2</td>\n",
       "      <td>1024</td>\n",
       "      <td>none</td>\n",
       "      <td>none</td>\n",
       "      <td>none</td>\n",
       "      <td>none</td>\n",
       "      <td>none</td>\n",
       "      <td>noop</td>\n",
       "      <td>sas</td>\n",
       "      <td>37567.00</td>\n",
       "    </tr>\n",
       "    <tr>\n",
       "      <th>1</th>\n",
       "      <td>Data</td>\n",
       "      <td>ext2</td>\n",
       "      <td>1024</td>\n",
       "      <td>none</td>\n",
       "      <td>none</td>\n",
       "      <td>none</td>\n",
       "      <td>none</td>\n",
       "      <td>none</td>\n",
       "      <td>noop</td>\n",
       "      <td>500sas</td>\n",
       "      <td>37407.33</td>\n",
       "    </tr>\n",
       "    <tr>\n",
       "      <th>2</th>\n",
       "      <td>Data</td>\n",
       "      <td>ext2</td>\n",
       "      <td>1024</td>\n",
       "      <td>none</td>\n",
       "      <td>none</td>\n",
       "      <td>none</td>\n",
       "      <td>none</td>\n",
       "      <td>none</td>\n",
       "      <td>noop</td>\n",
       "      <td>ssd</td>\n",
       "      <td>38352.00</td>\n",
       "    </tr>\n",
       "    <tr>\n",
       "      <th>3</th>\n",
       "      <td>Data</td>\n",
       "      <td>ext2</td>\n",
       "      <td>1024</td>\n",
       "      <td>none</td>\n",
       "      <td>none</td>\n",
       "      <td>none</td>\n",
       "      <td>none</td>\n",
       "      <td>none</td>\n",
       "      <td>noop</td>\n",
       "      <td>sata</td>\n",
       "      <td>38100.33</td>\n",
       "    </tr>\n",
       "    <tr>\n",
       "      <th>4</th>\n",
       "      <td>Data</td>\n",
       "      <td>ext2</td>\n",
       "      <td>1024</td>\n",
       "      <td>none</td>\n",
       "      <td>none</td>\n",
       "      <td>none</td>\n",
       "      <td>none</td>\n",
       "      <td>none</td>\n",
       "      <td>cfq</td>\n",
       "      <td>sas</td>\n",
       "      <td>40092.00</td>\n",
       "    </tr>\n",
       "  </tbody>\n",
       "</table>\n",
       "</div>"
      ],
      "text/plain": [
       "  Workload FileSystem  BlockSize InodeSize BlockGroup AtimeOption  \\\n",
       "0     Data       ext2       1024      none       none        none   \n",
       "1     Data       ext2       1024      none       none        none   \n",
       "2     Data       ext2       1024      none       none        none   \n",
       "3     Data       ext2       1024      none       none        none   \n",
       "4     Data       ext2       1024      none       none        none   \n",
       "\n",
       "  JournalOption SpecialOption IOScheduler  Device  Throughput  \n",
       "0          none          none        noop     sas    37567.00  \n",
       "1          none          none        noop  500sas    37407.33  \n",
       "2          none          none        noop     ssd    38352.00  \n",
       "3          none          none        noop    sata    38100.33  \n",
       "4          none          none         cfq     sas    40092.00  "
      ]
     },
     "execution_count": 3,
     "metadata": {},
     "output_type": "execute_result"
    }
   ],
   "source": [
    "data.head()"
   ]
  },
  {
   "cell_type": "code",
   "execution_count": 10,
   "metadata": {},
   "outputs": [],
   "source": [
    "temp = data[data.Throughput < 500]"
   ]
  },
  {
   "cell_type": "code",
   "execution_count": 15,
   "metadata": {},
   "outputs": [],
   "source": [
    "temp.sort_values(by='Throughput').set_index('Workload').to_csv('dataset/lowest_throughput.csv')"
   ]
  },
  {
   "cell_type": "code",
   "execution_count": null,
   "metadata": {},
   "outputs": [],
   "source": []
  }
 ],
 "metadata": {
  "kernelspec": {
   "display_name": "Python 3",
   "language": "python",
   "name": "python3"
  },
  "language_info": {
   "codemirror_mode": {
    "name": "ipython",
    "version": 3
   },
   "file_extension": ".py",
   "mimetype": "text/x-python",
   "name": "python",
   "nbconvert_exporter": "python",
   "pygments_lexer": "ipython3",
   "version": "3.5.2"
  }
 },
 "nbformat": 4,
 "nbformat_minor": 2
}
