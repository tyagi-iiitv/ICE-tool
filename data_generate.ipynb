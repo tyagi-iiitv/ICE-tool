{
 "cells": [
  {
   "cell_type": "code",
   "execution_count": 13,
   "metadata": {},
   "outputs": [],
   "source": [
    "import pandas as pd \n",
    "import numpy as np\n",
    "import json"
   ]
  },
  {
   "cell_type": "code",
   "execution_count": 14,
   "metadata": {},
   "outputs": [],
   "source": [
    "data = pd.read_csv('dataset/systems_data.csv')"
   ]
  },
  {
   "cell_type": "code",
   "execution_count": 15,
   "metadata": {},
   "outputs": [],
   "source": [
    "columns = list(data.columns)"
   ]
  },
  {
   "cell_type": "code",
   "execution_count": 16,
   "metadata": {},
   "outputs": [],
   "source": [
    "data_tosend = {'columns': columns[:-1]}"
   ]
  },
  {
   "cell_type": "code",
   "execution_count": 17,
   "metadata": {},
   "outputs": [],
   "source": [
    "max_cols = 0\n",
    "min_thp = 10000000000000000\n",
    "max_thp = 0\n",
    "for col in columns[:-1]:\n",
    "    col_thp = [col]\n",
    "    col_thp.append('Throughput')\n",
    "    df_grouped = pd.DataFrame(data[col_thp].groupby(col).describe()).reset_index()\n",
    "    df_grouped['Max'] = df_grouped[('Throughput', 'max')]\n",
    "    df_grouped['Min'] = df_grouped[('Throughput', 'min')]\n",
    "    chart_df = df_grouped[[col, 'Max', 'Min']]\n",
    "    max_thp = max(max_thp, chart_df['Max'].max())\n",
    "    min_thp = min(min_thp, chart_df['Min'].min())\n",
    "    chart_df.columns = chart_df.columns.droplevel(1)\n",
    "    max_cols = max(max_cols, chart_df.shape[0])\n",
    "    chart_df = chart_df.to_dict(orient='records')\n",
    "    chart_df = json.dumps(chart_df)\n",
    "    data_tosend[col] = chart_df"
   ]
  },
  {
   "cell_type": "code",
   "execution_count": 11,
   "metadata": {},
   "outputs": [],
   "source": [
    "data_tosend['Max Cols'] = max_cols"
   ]
  },
  {
   "cell_type": "code",
   "execution_count": 20,
   "metadata": {},
   "outputs": [],
   "source": [
    "data_tosend['Max Thp'] = max_thp\n",
    "data_tosend['Min Thp'] = min_thp"
   ]
  },
  {
   "cell_type": "code",
   "execution_count": 21,
   "metadata": {},
   "outputs": [
    {
     "data": {
      "text/plain": [
       "{'Atime Option': '[{\"Min\": 239.33, \"Max\": 41870.33, \"Atime Option\": \"noatime\"}, {\"Min\": 244.67, \"Max\": 41948.0, \"Atime Option\": \"none\"}]',\n",
       " 'Block Group': '[{\"Min\": 673.83, \"Max\": 41630.33, \"Block Group\": \"128\"}, {\"Min\": 294.0, \"Max\": 41878.33, \"Block Group\": \"16\"}, {\"Min\": 239.33, \"Max\": 41843.67, \"Block Group\": \"2\"}, {\"Min\": 724.33, \"Max\": 41751.67, \"Block Group\": \"256\"}, {\"Min\": 326.67, \"Max\": 41948.0, \"Block Group\": \"32\"}, {\"Min\": 247.0, \"Max\": 41821.0, \"Block Group\": \"4\"}, {\"Min\": 692.33, \"Max\": 41683.33, \"Block Group\": \"64\"}, {\"Min\": 282.33, \"Max\": 41870.33, \"Block Group\": \"8\"}, {\"Min\": 283.67, \"Max\": 41844.33, \"Block Group\": \"none\"}]',\n",
       " 'Block Size': '[{\"Min\": 239.33, \"Max\": 41948.0, \"Block Size\": 1024.0}, {\"Min\": 247.0, \"Max\": 41858.67, \"Block Size\": 2048.0}, {\"Min\": 244.67, \"Max\": 41772.67, \"Block Size\": 4096.0}]',\n",
       " 'Device': '[{\"Min\": 302.0, \"Max\": 41753.33, \"Device\": \"500sas\"}, {\"Min\": 1092.67, \"Max\": 41886.0, \"Device\": \"sas\"}, {\"Min\": 239.33, \"Max\": 41870.33, \"Device\": \"sata\"}, {\"Min\": 3086.33, \"Max\": 41948.0, \"Device\": \"ssd\"}]',\n",
       " 'File System': '[{\"Min\": 754.33, \"Max\": 41462.33, \"File System\": \"btrfs\"}, {\"Min\": 266.33, \"Max\": 41685.0, \"File System\": \"ext2\"}, {\"Min\": 239.33, \"Max\": 41855.0, \"File System\": \"ext3\"}, {\"Min\": 499.33, \"Max\": 41714.0, \"File System\": \"ext4\"}, {\"Min\": 662.33, \"Max\": 40561.0, \"File System\": \"nilfs2\"}, {\"Min\": 747.0, \"Max\": 40490.33, \"File System\": \"reiserfs\"}, {\"Min\": 671.67, \"Max\": 41948.0, \"File System\": \"xfs\"}]',\n",
       " 'IO Scheduler': '[{\"Min\": 239.33, \"Max\": 41582.33, \"IO Scheduler\": \"cfq\"}, {\"Min\": 247.0, \"Max\": 41886.0, \"IO Scheduler\": \"deadline\"}, {\"Min\": 246.0, \"Max\": 41948.0, \"IO Scheduler\": \"noop\"}]',\n",
       " 'Inode Size': '[{\"Min\": 239.33, \"Inode Size\": \"1024\", \"Max\": 40906.0}, {\"Min\": 269.25, \"Inode Size\": \"128\", \"Max\": 41855.0}, {\"Min\": 257.0, \"Inode Size\": \"2048\", \"Max\": 41563.33}, {\"Min\": 249.0, \"Inode Size\": \"256\", \"Max\": 41682.0}, {\"Min\": 244.67, \"Inode Size\": \"4096\", \"Max\": 41714.0}, {\"Min\": 254.0, \"Inode Size\": \"512\", \"Max\": 41948.0}, {\"Min\": 800.33, \"Inode Size\": \"8192\", \"Max\": 41462.33}, {\"Min\": 256.75, \"Inode Size\": \"none\", \"Max\": 41858.67}]',\n",
       " 'Journal Option': '[{\"Journal Option\": \"journal\", \"Max\": 41678.67, \"Min\": 239.33}, {\"Journal Option\": \"none\", \"Max\": 41948.0, \"Min\": 246.0}, {\"Journal Option\": \"ordered\", \"Max\": 41821.0, \"Min\": 251.67}, {\"Journal Option\": \"writeback\", \"Max\": 41855.0, \"Min\": 263.33}]',\n",
       " 'Max Thp': 41948.0,\n",
       " 'Min Thp': 239.33,\n",
       " 'Special Option': '[{\"Min\": 754.33, \"Max\": 21288.67, \"Special Option\": \"compress\"}, {\"Min\": 13636.33, \"Max\": 41440.67, \"Special Option\": \"nodatacow\"}, {\"Min\": 13678.67, \"Max\": 41394.67, \"Special Option\": \"nodatasum\"}, {\"Min\": 239.33, \"Max\": 41948.0, \"Special Option\": \"none\"}, {\"Min\": 747.0, \"Max\": 40490.33, \"Special Option\": \"notail\"}]',\n",
       " 'Workload': '[{\"Min\": 6611.5, \"Max\": 41948.0, \"Workload\": \"Data\"}, {\"Min\": 239.33, \"Max\": 17080.75, \"Workload\": \"File\"}, {\"Min\": 4839.0, \"Max\": 18845.0, \"Workload\": \"Mail\"}, {\"Min\": 14479.33, \"Max\": 16200.33, \"Workload\": \"Web\"}]',\n",
       " 'columns': ['Workload',\n",
       "  'File System',\n",
       "  'Block Size',\n",
       "  'Inode Size',\n",
       "  'Block Group',\n",
       "  'Atime Option',\n",
       "  'Journal Option',\n",
       "  'Special Option',\n",
       "  'IO Scheduler',\n",
       "  'Device']}"
      ]
     },
     "execution_count": 21,
     "metadata": {},
     "output_type": "execute_result"
    }
   ],
   "source": [
    "data_tosend"
   ]
  },
  {
   "cell_type": "code",
   "execution_count": null,
   "metadata": {},
   "outputs": [],
   "source": []
  }
 ],
 "metadata": {
  "kernelspec": {
   "display_name": "Python 3",
   "language": "python",
   "name": "python3"
  },
  "language_info": {
   "codemirror_mode": {
    "name": "ipython",
    "version": 3
   },
   "file_extension": ".py",
   "mimetype": "text/x-python",
   "name": "python",
   "nbconvert_exporter": "python",
   "pygments_lexer": "ipython3",
   "version": "3.5.2"
  }
 },
 "nbformat": 4,
 "nbformat_minor": 2
}
