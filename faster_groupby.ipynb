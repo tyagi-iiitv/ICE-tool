{
 "cells": [
  {
   "cell_type": "code",
   "execution_count": 84,
   "metadata": {},
   "outputs": [],
   "source": [
    "import pandas as pd\n",
    "import numpy as np\n",
    "import json"
   ]
  },
  {
   "cell_type": "code",
   "execution_count": 85,
   "metadata": {},
   "outputs": [],
   "source": [
    "data = pd.read_csv('dataset/systems_data.csv')"
   ]
  },
  {
   "cell_type": "code",
   "execution_count": 86,
   "metadata": {},
   "outputs": [],
   "source": [
    "columns = list(data.columns) # Crete a list of columns in the dataset\n",
    "for col in columns[:-1]: # For all columns except throughput\n",
    "    data[col] = data[col].apply(str) # Change the datatype for each column to be of type string so that there are no conflicts when performing calculations on each of the columns\n",
    "data_dummy = pd.get_dummies(data) #Since all the data in categorical, this creates a boolean dummy dataframe by creating columns of all the categories for each variable. This creates a column for each bar displayed\n",
    "column_dummy = list(data_dummy.columns)\n",
    "on_cols = list(column_dummy[1:]) # List of bars that are turned on. Initially, all the bars are on. We start from 1st index because column_dummy[0] = Throughput\n",
    "off_cols = [] # No bars are turned off initially\n",
    "data_tosend = {'columns': columns[:-1]}\n",
    "dataframes = {} # This variable stores all variables in the dataset and the statistics of throughput for each of these variables. It is a dict of dataframes"
   ]
  },
  {
   "cell_type": "code",
   "execution_count": 94,
   "metadata": {},
   "outputs": [],
   "source": [
    "filtered_data = data_dummy # Create a new dataframe to edit the values\n",
    "'''\n",
    "    In the next step, a new dataframe is created storing the variable categories and \n",
    "    the Max and Min Throughput value for each category. This new dataframe is then \n",
    "    converted to a JSON dictionary and sent to the client.\n",
    "'''\n",
    "cur_variable = on_cols[0].split('_')[0] # Used to store the variable part of the string, for ex: Workload_Data is a string them cur_variable will store \"Workload\".\n",
    "global_temp_df = pd.DataFrame() # Dataframe used to store the categories and their Max and Min Throughput values\n",
    "for col in on_cols: # For all the bars that are currently in the \"on\" state\n",
    "    temp = filtered_data.loc[filtered_data[col] == 1] # Get the dataframe where the current category for a given variable is 1 i.e. 'on'. This is used to plot individual bars.\n",
    "    temp_var = col.split('_')[0] # Get the variable part of the string\n",
    "    temp_cat = col.split('_')[1] # Get the category part of the string\n",
    "    if temp_var == cur_variable: # There is no change in the variable of the col\n",
    "        global_temp_df = global_temp_df.append({temp_var: temp_cat, 'Max': temp.Throughput.max(), 'Min': temp.Throughput.min()}, ignore_index=True)\n",
    "        # Append a row in the global_temp_df that includes the Min and Max values for a new category of current variable\n",
    "    else:\n",
    "        dataframes[cur_variable] = global_temp_df # Add the value of current dataframe to the dataframes dict for storage\n",
    "        # Code to create a JSON Object start -------------\n",
    "\n",
    "        chart_df = global_temp_df.to_dict(orient='records') # Convert the dataframe to a dict\n",
    "        chart_df = json.dumps(chart_df) # Create a JSON object\n",
    "        data_tosend[cur_variable] = chart_df # Add the JSON object to JSON array which is sent to the client\n",
    "\n",
    "        # JSON object code end here --------------\n",
    "        cur_variable = temp_var # A new variable is detected, so change the value of cur_variable to the new variable\n",
    "        temp_df = pd.DataFrame(columns=[temp_var, 'Max', 'Min']) # Create a new temporary dataframe because a new variable type is detected\n",
    "        temp_df = temp_df.append({temp_var: temp_cat, 'Max': temp.Throughput.max(), 'Min': temp.Throughput.min()}, ignore_index=True) # Add the Max and Min throughput values to the temp dataframe for current category\n",
    "        global_temp_df = temp_df # Change global_temp_df to this new dataframe for a new variable\n",
    "\n",
    "# At this point, global_temp_df contains the dataframe for the last variable in the dataset. We need to add this dataset to the JSON array data_tosend\n",
    "\n",
    "dataframes[cur_variable] = global_temp_df # Add the value of current dataframe to the dataframes dict for storage\n",
    "# Code to create a JSON Object start -------------\n",
    "\n",
    "chart_df = global_temp_df.to_dict(orient='records') # Convert the dataframe to a dict\n",
    "chart_df = json.dumps(chart_df) # Create a JSON object\n",
    "data_tosend[cur_variable] = chart_df # Add the JSON object to JSON array which is sent to the client\n",
    "\n",
    "# JSON object code end here --------------\n",
    "data_tosend['Max Cols'] = len(column_dummy)-1 # Total number of bars to display i.e. all columns in the dummy dataframe except throughput\n",
    "data_tosend['Max Thp'] = filtered_data.Throughput.max()\n",
    "data_tosend['Min Thp'] = filtered_data.Throughput.min()"
   ]
  },
  {
   "cell_type": "code",
   "execution_count": 95,
   "metadata": {},
   "outputs": [
    {
     "data": {
      "text/html": [
       "<div>\n",
       "<style scoped>\n",
       "    .dataframe tbody tr th:only-of-type {\n",
       "        vertical-align: middle;\n",
       "    }\n",
       "\n",
       "    .dataframe tbody tr th {\n",
       "        vertical-align: top;\n",
       "    }\n",
       "\n",
       "    .dataframe thead th {\n",
       "        text-align: right;\n",
       "    }\n",
       "</style>\n",
       "<table border=\"1\" class=\"dataframe\">\n",
       "  <thead>\n",
       "    <tr style=\"text-align: right;\">\n",
       "      <th></th>\n",
       "      <th>Max</th>\n",
       "      <th>Min</th>\n",
       "      <th>Workload</th>\n",
       "    </tr>\n",
       "  </thead>\n",
       "  <tbody>\n",
       "    <tr>\n",
       "      <th>0</th>\n",
       "      <td>41948.00</td>\n",
       "      <td>6611.50</td>\n",
       "      <td>Data</td>\n",
       "    </tr>\n",
       "    <tr>\n",
       "      <th>1</th>\n",
       "      <td>17080.75</td>\n",
       "      <td>239.33</td>\n",
       "      <td>File</td>\n",
       "    </tr>\n",
       "    <tr>\n",
       "      <th>2</th>\n",
       "      <td>18845.00</td>\n",
       "      <td>4839.00</td>\n",
       "      <td>Mail</td>\n",
       "    </tr>\n",
       "    <tr>\n",
       "      <th>3</th>\n",
       "      <td>16200.33</td>\n",
       "      <td>14479.33</td>\n",
       "      <td>Web</td>\n",
       "    </tr>\n",
       "  </tbody>\n",
       "</table>\n",
       "</div>"
      ],
      "text/plain": [
       "        Max       Min Workload\n",
       "0  41948.00   6611.50     Data\n",
       "1  17080.75    239.33     File\n",
       "2  18845.00   4839.00     Mail\n",
       "3  16200.33  14479.33      Web"
      ]
     },
     "execution_count": 95,
     "metadata": {},
     "output_type": "execute_result"
    }
   ],
   "source": [
    "dataframes['Workload']"
   ]
  },
  {
   "cell_type": "code",
   "execution_count": 99,
   "metadata": {},
   "outputs": [],
   "source": [
    "# for col in on_cols:\n",
    "col = 'Workload_Data'\n",
    "cur_var = col.split('_')[0]\n",
    "cur_cat = col.split('_')[1]\n",
    "temp = filtered_data.loc[filtered_data[col] == 1]\n",
    "min_thp = 10\n",
    "max_thp = 100\n",
    "data_tochange = dataframes[cur_var]"
   ]
  },
  {
   "cell_type": "code",
   "execution_count": 109,
   "metadata": {},
   "outputs": [],
   "source": [
    "data_tochange.set_index(cur_var, inplace=True)"
   ]
  },
  {
   "cell_type": "code",
   "execution_count": 111,
   "metadata": {},
   "outputs": [],
   "source": [
    "data_tochange.at[cur_cat, 'Max'] = max_thp\n",
    "data_tochange.at[cur_cat, 'Min'] = min_thp"
   ]
  },
  {
   "cell_type": "code",
   "execution_count": 114,
   "metadata": {},
   "outputs": [],
   "source": [
    "data_tochange.reset_index(inplace=True)"
   ]
  },
  {
   "cell_type": "code",
   "execution_count": 115,
   "metadata": {},
   "outputs": [
    {
     "data": {
      "text/plain": [
       "[{'Max': 100.0, 'Min': 10.0, 'Workload': 'Data'},\n",
       " {'Max': 17080.75, 'Min': 239.33, 'Workload': 'File'},\n",
       " {'Max': 18845.0, 'Min': 4839.0, 'Workload': 'Mail'},\n",
       " {'Max': 16200.33, 'Min': 14479.33, 'Workload': 'Web'}]"
      ]
     },
     "execution_count": 115,
     "metadata": {},
     "output_type": "execute_result"
    }
   ],
   "source": [
    "data_tochange.to_dict(orient='records')"
   ]
  },
  {
   "cell_type": "code",
   "execution_count": null,
   "metadata": {},
   "outputs": [],
   "source": []
  }
 ],
 "metadata": {
  "kernelspec": {
   "display_name": "Python 3",
   "language": "python",
   "name": "python3"
  },
  "language_info": {
   "codemirror_mode": {
    "name": "ipython",
    "version": 3
   },
   "file_extension": ".py",
   "mimetype": "text/x-python",
   "name": "python",
   "nbconvert_exporter": "python",
   "pygments_lexer": "ipython3",
   "version": "3.5.2"
  }
 },
 "nbformat": 4,
 "nbformat_minor": 2
}
