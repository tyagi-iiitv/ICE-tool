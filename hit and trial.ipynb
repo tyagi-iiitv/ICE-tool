{
 "cells": [
  {
   "cell_type": "code",
   "execution_count": 120,
   "metadata": {},
   "outputs": [],
   "source": [
    "import pandas as pd\n",
    "import numpy as np\n",
    "import json"
   ]
  },
  {
   "cell_type": "code",
   "execution_count": 150,
   "metadata": {},
   "outputs": [],
   "source": [
    "data = pd.read_csv('dataset/systems_data.csv')\n",
    "columns = list(data.columns)\n",
    "data_tosend = {'columns': columns[:-1]}\n",
    "# Store the dataframes in a dictionary\n",
    "dataframes = {}\n",
    "# Calculating unique values in each column\n",
    "unique_values = {}\n",
    "for item in columns[:-1]:\n",
    "    unique_items = list(data[item].unique())\n",
    "    unique_values[item] = unique_items"
   ]
  },
  {
   "cell_type": "code",
   "execution_count": 151,
   "metadata": {},
   "outputs": [],
   "source": [
    "for item in columns[:-1]:\n",
    "    unique_items = list(data[item].unique())\n",
    "    unique_values[item] = unique_items\n",
    "\n",
    "max_cols = 0\n",
    "min_thp = 10000000000000000\n",
    "max_thp = 0\n",
    "for col in columns[:-1]:\n",
    "    col_thp = [col]\n",
    "    col_thp.append('Throughput')\n",
    "    df_grouped = pd.DataFrame(data[col_thp].groupby(col).describe()).reset_index()\n",
    "    df_grouped['Max'] = df_grouped[('Throughput', 'max')]\n",
    "    df_grouped['Min'] = df_grouped[('Throughput', 'min')]\n",
    "    chart_df = df_grouped[[col, 'Max', 'Min']]\n",
    "    max_thp = max(max_thp, chart_df['Max'].max())\n",
    "    min_thp = min(min_thp, chart_df['Min'].min())\n",
    "    chart_df.columns = chart_df.columns.droplevel(1)\n",
    "    dataframes[col] = chart_df\n",
    "    max_cols = max(max_cols, chart_df.shape[0])\n",
    "    chart_df = chart_df.to_dict(orient='records')\n",
    "    chart_df = json.dumps(chart_df)\n",
    "    data_tosend[col] = chart_df\n",
    "data_tosend['Max Cols'] = max_cols\n",
    "data_tosend['Max Thp'] = max_thp\n",
    "data_tosend['Min Thp'] = min_thp"
   ]
  },
  {
   "cell_type": "code",
   "execution_count": 152,
   "metadata": {},
   "outputs": [
    {
     "name": "stdout",
     "output_type": "stream",
     "text": [
      "File System\n",
      "ext2\n"
     ]
    }
   ],
   "source": [
    "column_received = 'File System'\n",
    "value_received = 'ext2'\n",
    "switch_received = 'off'\n",
    "print(column_received)\n",
    "print(value_received)\n",
    "filtered_data = data\n",
    "# Modifying the values based on selected bars\n",
    "if switch_received == 'off':\n",
    "    unique_values[column_received].remove(value_received)\n",
    "else:\n",
    "    unique_values[column_received].append(value_received)\n",
    "\n",
    "for item in columns[:-1]:\n",
    "    filtered_data = filtered_data[filtered_data[item].isin(unique_values[item])]\n",
    "max_cols = 0\n",
    "min_thp = 10000000000000000\n",
    "max_thp = 0\n",
    "col = 'Workload'\n",
    "col_thp = [col]\n",
    "col_thp.append('Throughput')\n",
    "df_grouped = pd.DataFrame(filtered_data[col_thp].groupby(col).describe()).reset_index()\n",
    "df_grouped['Max'] = df_grouped[('Throughput', 'max')]\n",
    "df_grouped['Min'] = df_grouped[('Throughput', 'min')]\n",
    "new_chart_df = df_grouped[[col, 'Max', 'Min']]\n",
    "new_chart_df.columns = new_chart_df.columns.droplevel(1)\n",
    "chart_df = dataframes[col]"
   ]
  },
  {
   "cell_type": "code",
   "execution_count": 153,
   "metadata": {},
   "outputs": [
    {
     "data": {
      "text/html": [
       "<div>\n",
       "<style scoped>\n",
       "    .dataframe tbody tr th:only-of-type {\n",
       "        vertical-align: middle;\n",
       "    }\n",
       "\n",
       "    .dataframe tbody tr th {\n",
       "        vertical-align: top;\n",
       "    }\n",
       "\n",
       "    .dataframe thead th {\n",
       "        text-align: right;\n",
       "    }\n",
       "</style>\n",
       "<table border=\"1\" class=\"dataframe\">\n",
       "  <thead>\n",
       "    <tr style=\"text-align: right;\">\n",
       "      <th></th>\n",
       "      <th>Workload</th>\n",
       "      <th>Max</th>\n",
       "      <th>Min</th>\n",
       "    </tr>\n",
       "  </thead>\n",
       "  <tbody>\n",
       "    <tr>\n",
       "      <th>0</th>\n",
       "      <td>Data</td>\n",
       "      <td>41948.00</td>\n",
       "      <td>6611.50</td>\n",
       "    </tr>\n",
       "    <tr>\n",
       "      <th>1</th>\n",
       "      <td>File</td>\n",
       "      <td>17080.75</td>\n",
       "      <td>239.33</td>\n",
       "    </tr>\n",
       "    <tr>\n",
       "      <th>2</th>\n",
       "      <td>Mail</td>\n",
       "      <td>18771.00</td>\n",
       "      <td>4839.00</td>\n",
       "    </tr>\n",
       "    <tr>\n",
       "      <th>3</th>\n",
       "      <td>Web</td>\n",
       "      <td>16200.33</td>\n",
       "      <td>14516.00</td>\n",
       "    </tr>\n",
       "  </tbody>\n",
       "</table>\n",
       "</div>"
      ],
      "text/plain": [
       "  Workload       Max       Min\n",
       "0     Data  41948.00   6611.50\n",
       "1     File  17080.75    239.33\n",
       "2     Mail  18771.00   4839.00\n",
       "3      Web  16200.33  14516.00"
      ]
     },
     "execution_count": 153,
     "metadata": {},
     "output_type": "execute_result"
    }
   ],
   "source": [
    "new_chart_df"
   ]
  },
  {
   "cell_type": "code",
   "execution_count": 154,
   "metadata": {},
   "outputs": [
    {
     "data": {
      "text/html": [
       "<div>\n",
       "<style scoped>\n",
       "    .dataframe tbody tr th:only-of-type {\n",
       "        vertical-align: middle;\n",
       "    }\n",
       "\n",
       "    .dataframe tbody tr th {\n",
       "        vertical-align: top;\n",
       "    }\n",
       "\n",
       "    .dataframe thead th {\n",
       "        text-align: right;\n",
       "    }\n",
       "</style>\n",
       "<table border=\"1\" class=\"dataframe\">\n",
       "  <thead>\n",
       "    <tr style=\"text-align: right;\">\n",
       "      <th></th>\n",
       "      <th>Workload</th>\n",
       "      <th>Max</th>\n",
       "      <th>Min</th>\n",
       "    </tr>\n",
       "  </thead>\n",
       "  <tbody>\n",
       "    <tr>\n",
       "      <th>0</th>\n",
       "      <td>Data</td>\n",
       "      <td>41948.00</td>\n",
       "      <td>6611.50</td>\n",
       "    </tr>\n",
       "    <tr>\n",
       "      <th>1</th>\n",
       "      <td>File</td>\n",
       "      <td>17080.75</td>\n",
       "      <td>239.33</td>\n",
       "    </tr>\n",
       "    <tr>\n",
       "      <th>2</th>\n",
       "      <td>Mail</td>\n",
       "      <td>18845.00</td>\n",
       "      <td>4839.00</td>\n",
       "    </tr>\n",
       "    <tr>\n",
       "      <th>3</th>\n",
       "      <td>Web</td>\n",
       "      <td>16200.33</td>\n",
       "      <td>14479.33</td>\n",
       "    </tr>\n",
       "  </tbody>\n",
       "</table>\n",
       "</div>"
      ],
      "text/plain": [
       "  Workload       Max       Min\n",
       "0     Data  41948.00   6611.50\n",
       "1     File  17080.75    239.33\n",
       "2     Mail  18845.00   4839.00\n",
       "3      Web  16200.33  14479.33"
      ]
     },
     "execution_count": 154,
     "metadata": {},
     "output_type": "execute_result"
    }
   ],
   "source": [
    "chart_df"
   ]
  },
  {
   "cell_type": "code",
   "execution_count": 157,
   "metadata": {},
   "outputs": [],
   "source": [
    "chart_df.loc[chart_df[col].isin(new_chart_df[col]), ['Max','Min']] = new_chart_df[['Max','Min']]"
   ]
  },
  {
   "cell_type": "code",
   "execution_count": 158,
   "metadata": {},
   "outputs": [
    {
     "data": {
      "text/html": [
       "<div>\n",
       "<style scoped>\n",
       "    .dataframe tbody tr th:only-of-type {\n",
       "        vertical-align: middle;\n",
       "    }\n",
       "\n",
       "    .dataframe tbody tr th {\n",
       "        vertical-align: top;\n",
       "    }\n",
       "\n",
       "    .dataframe thead th {\n",
       "        text-align: right;\n",
       "    }\n",
       "</style>\n",
       "<table border=\"1\" class=\"dataframe\">\n",
       "  <thead>\n",
       "    <tr style=\"text-align: right;\">\n",
       "      <th></th>\n",
       "      <th>Workload</th>\n",
       "      <th>Max</th>\n",
       "      <th>Min</th>\n",
       "    </tr>\n",
       "  </thead>\n",
       "  <tbody>\n",
       "    <tr>\n",
       "      <th>0</th>\n",
       "      <td>Data</td>\n",
       "      <td>41948.00</td>\n",
       "      <td>6611.50</td>\n",
       "    </tr>\n",
       "    <tr>\n",
       "      <th>1</th>\n",
       "      <td>File</td>\n",
       "      <td>17080.75</td>\n",
       "      <td>239.33</td>\n",
       "    </tr>\n",
       "    <tr>\n",
       "      <th>2</th>\n",
       "      <td>Mail</td>\n",
       "      <td>18771.00</td>\n",
       "      <td>4839.00</td>\n",
       "    </tr>\n",
       "    <tr>\n",
       "      <th>3</th>\n",
       "      <td>Web</td>\n",
       "      <td>16200.33</td>\n",
       "      <td>14516.00</td>\n",
       "    </tr>\n",
       "  </tbody>\n",
       "</table>\n",
       "</div>"
      ],
      "text/plain": [
       "  Workload       Max       Min\n",
       "0     Data  41948.00   6611.50\n",
       "1     File  17080.75    239.33\n",
       "2     Mail  18771.00   4839.00\n",
       "3      Web  16200.33  14516.00"
      ]
     },
     "execution_count": 158,
     "metadata": {},
     "output_type": "execute_result"
    }
   ],
   "source": [
    "chart_df"
   ]
  },
  {
   "cell_type": "code",
   "execution_count": null,
   "metadata": {},
   "outputs": [],
   "source": []
  },
  {
   "cell_type": "code",
   "execution_count": null,
   "metadata": {},
   "outputs": [],
   "source": []
  },
  {
   "cell_type": "code",
   "execution_count": null,
   "metadata": {},
   "outputs": [],
   "source": [
    "max_thp = max(max_thp, chart_df['Max'].max())\n",
    "min_thp = min(min_thp, chart_df['Min'].min())\n",
    "chart_df.columns = chart_df.columns.droplevel(1)\n",
    "max_cols = max(max_cols, chart_df.shape[0])\n",
    "chart_df = chart_df.to_dict(orient='records')\n",
    "chart_df = json.dumps(chart_df)\n",
    "data_tosend[col] = chart_df\n",
    "data_tosend['Max Cols'] = max_cols\n",
    "data_tosend['Max Thp'] = max_thp\n",
    "data_tosend['Min Thp'] = min_thp"
   ]
  }
 ],
 "metadata": {
  "kernelspec": {
   "display_name": "Python 3",
   "language": "python",
   "name": "python3"
  },
  "language_info": {
   "codemirror_mode": {
    "name": "ipython",
    "version": 3
   },
   "file_extension": ".py",
   "mimetype": "text/x-python",
   "name": "python",
   "nbconvert_exporter": "python",
   "pygments_lexer": "ipython3",
   "version": "3.5.2"
  }
 },
 "nbformat": 4,
 "nbformat_minor": 2
}
