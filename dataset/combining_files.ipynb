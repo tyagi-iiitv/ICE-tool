{
 "cells": [
  {
   "cell_type": "code",
   "execution_count": 1,
   "metadata": {},
   "outputs": [
    {
     "name": "stderr",
     "output_type": "stream",
     "text": [
      "/mnt/c/Users/atyag/Documents/boxPlotApp/env/lib/python3.5/importlib/_bootstrap.py:222: RuntimeWarning: numpy.dtype size changed, may indicate binary incompatibility. Expected 96, got 88\n",
      "  return f(*args, **kwds)\n"
     ]
    }
   ],
   "source": [
    "import pandas as pd\n",
    "import numpy as np"
   ]
  },
  {
   "cell_type": "code",
   "execution_count": 2,
   "metadata": {},
   "outputs": [],
   "source": [
    "data1 = pd.read_csv('dbserver_short.csv')"
   ]
  },
  {
   "cell_type": "code",
   "execution_count": 3,
   "metadata": {},
   "outputs": [],
   "source": [
    "data2 = pd.read_csv('fileserver_short.csv')\n",
    "data3 = pd.read_csv('mailserver_short.csv')\n",
    "data4 = pd.read_csv('webserver_short.csv')"
   ]
  },
  {
   "cell_type": "code",
   "execution_count": 4,
   "metadata": {},
   "outputs": [],
   "source": [
    "data1['Workload'] = 'Data';"
   ]
  },
  {
   "cell_type": "code",
   "execution_count": 5,
   "metadata": {},
   "outputs": [],
   "source": [
    "data2['Workload'] = 'File';\n",
    "data3['Workload'] = 'Mail';\n",
    "data4['Workload'] = 'Web';"
   ]
  },
  {
   "cell_type": "code",
   "execution_count": 6,
   "metadata": {},
   "outputs": [],
   "source": [
    "data_new = data1.append(data2)\n",
    "data_new = data_new.append(data3)\n",
    "data_new = data_new.append(data4)"
   ]
  },
  {
   "cell_type": "code",
   "execution_count": 7,
   "metadata": {},
   "outputs": [
    {
     "data": {
      "text/html": [
       "<div>\n",
       "<style scoped>\n",
       "    .dataframe tbody tr th:only-of-type {\n",
       "        vertical-align: middle;\n",
       "    }\n",
       "\n",
       "    .dataframe tbody tr th {\n",
       "        vertical-align: top;\n",
       "    }\n",
       "\n",
       "    .dataframe thead th {\n",
       "        text-align: right;\n",
       "    }\n",
       "</style>\n",
       "<table border=\"1\" class=\"dataframe\">\n",
       "  <thead>\n",
       "    <tr style=\"text-align: right;\">\n",
       "      <th></th>\n",
       "      <th>File System</th>\n",
       "      <th>Block Size</th>\n",
       "      <th>Inode Size</th>\n",
       "      <th>Block Group</th>\n",
       "      <th>Atime Option</th>\n",
       "      <th>Journal Option</th>\n",
       "      <th>Special Option</th>\n",
       "      <th>I/O Scheduler</th>\n",
       "      <th>Device</th>\n",
       "      <th>Throughput</th>\n",
       "      <th>Workload</th>\n",
       "    </tr>\n",
       "  </thead>\n",
       "  <tbody>\n",
       "    <tr>\n",
       "      <th>0</th>\n",
       "      <td>ext2</td>\n",
       "      <td>1024</td>\n",
       "      <td>none</td>\n",
       "      <td>none</td>\n",
       "      <td>none</td>\n",
       "      <td>none</td>\n",
       "      <td>none</td>\n",
       "      <td>noop</td>\n",
       "      <td>sas</td>\n",
       "      <td>37567.00</td>\n",
       "      <td>Data</td>\n",
       "    </tr>\n",
       "    <tr>\n",
       "      <th>1</th>\n",
       "      <td>ext2</td>\n",
       "      <td>1024</td>\n",
       "      <td>none</td>\n",
       "      <td>none</td>\n",
       "      <td>none</td>\n",
       "      <td>none</td>\n",
       "      <td>none</td>\n",
       "      <td>noop</td>\n",
       "      <td>500sas</td>\n",
       "      <td>37407.33</td>\n",
       "      <td>Data</td>\n",
       "    </tr>\n",
       "    <tr>\n",
       "      <th>2</th>\n",
       "      <td>ext2</td>\n",
       "      <td>1024</td>\n",
       "      <td>none</td>\n",
       "      <td>none</td>\n",
       "      <td>none</td>\n",
       "      <td>none</td>\n",
       "      <td>none</td>\n",
       "      <td>noop</td>\n",
       "      <td>ssd</td>\n",
       "      <td>38352.00</td>\n",
       "      <td>Data</td>\n",
       "    </tr>\n",
       "    <tr>\n",
       "      <th>3</th>\n",
       "      <td>ext2</td>\n",
       "      <td>1024</td>\n",
       "      <td>none</td>\n",
       "      <td>none</td>\n",
       "      <td>none</td>\n",
       "      <td>none</td>\n",
       "      <td>none</td>\n",
       "      <td>noop</td>\n",
       "      <td>sata</td>\n",
       "      <td>38100.33</td>\n",
       "      <td>Data</td>\n",
       "    </tr>\n",
       "    <tr>\n",
       "      <th>4</th>\n",
       "      <td>ext2</td>\n",
       "      <td>1024</td>\n",
       "      <td>none</td>\n",
       "      <td>none</td>\n",
       "      <td>none</td>\n",
       "      <td>none</td>\n",
       "      <td>none</td>\n",
       "      <td>cfq</td>\n",
       "      <td>sas</td>\n",
       "      <td>40092.00</td>\n",
       "      <td>Data</td>\n",
       "    </tr>\n",
       "  </tbody>\n",
       "</table>\n",
       "</div>"
      ],
      "text/plain": [
       "  File System  Block Size Inode Size Block Group Atime Option Journal Option  \\\n",
       "0        ext2        1024       none        none         none           none   \n",
       "1        ext2        1024       none        none         none           none   \n",
       "2        ext2        1024       none        none         none           none   \n",
       "3        ext2        1024       none        none         none           none   \n",
       "4        ext2        1024       none        none         none           none   \n",
       "\n",
       "  Special Option I/O Scheduler  Device  Throughput Workload  \n",
       "0           none          noop     sas    37567.00     Data  \n",
       "1           none          noop  500sas    37407.33     Data  \n",
       "2           none          noop     ssd    38352.00     Data  \n",
       "3           none          noop    sata    38100.33     Data  \n",
       "4           none           cfq     sas    40092.00     Data  "
      ]
     },
     "execution_count": 7,
     "metadata": {},
     "output_type": "execute_result"
    }
   ],
   "source": [
    "data_new.head()"
   ]
  },
  {
   "cell_type": "code",
   "execution_count": 8,
   "metadata": {},
   "outputs": [
    {
     "data": {
      "text/html": [
       "<div>\n",
       "<style scoped>\n",
       "    .dataframe tbody tr th:only-of-type {\n",
       "        vertical-align: middle;\n",
       "    }\n",
       "\n",
       "    .dataframe tbody tr th {\n",
       "        vertical-align: top;\n",
       "    }\n",
       "\n",
       "    .dataframe thead th {\n",
       "        text-align: right;\n",
       "    }\n",
       "</style>\n",
       "<table border=\"1\" class=\"dataframe\">\n",
       "  <thead>\n",
       "    <tr style=\"text-align: right;\">\n",
       "      <th></th>\n",
       "      <th>File System</th>\n",
       "      <th>Block Size</th>\n",
       "      <th>Inode Size</th>\n",
       "      <th>Block Group</th>\n",
       "      <th>Atime Option</th>\n",
       "      <th>Journal Option</th>\n",
       "      <th>Special Option</th>\n",
       "      <th>I/O Scheduler</th>\n",
       "      <th>Device</th>\n",
       "      <th>Throughput</th>\n",
       "      <th>Workload</th>\n",
       "    </tr>\n",
       "  </thead>\n",
       "  <tbody>\n",
       "    <tr>\n",
       "      <th>24883</th>\n",
       "      <td>reiserfs</td>\n",
       "      <td>4096</td>\n",
       "      <td>none</td>\n",
       "      <td>none</td>\n",
       "      <td>noatime</td>\n",
       "      <td>writeback</td>\n",
       "      <td>notail</td>\n",
       "      <td>cfq</td>\n",
       "      <td>sata</td>\n",
       "      <td>15435.67</td>\n",
       "      <td>Web</td>\n",
       "    </tr>\n",
       "    <tr>\n",
       "      <th>24884</th>\n",
       "      <td>reiserfs</td>\n",
       "      <td>4096</td>\n",
       "      <td>none</td>\n",
       "      <td>none</td>\n",
       "      <td>noatime</td>\n",
       "      <td>writeback</td>\n",
       "      <td>notail</td>\n",
       "      <td>deadline</td>\n",
       "      <td>sas</td>\n",
       "      <td>15268.67</td>\n",
       "      <td>Web</td>\n",
       "    </tr>\n",
       "    <tr>\n",
       "      <th>24885</th>\n",
       "      <td>reiserfs</td>\n",
       "      <td>4096</td>\n",
       "      <td>none</td>\n",
       "      <td>none</td>\n",
       "      <td>noatime</td>\n",
       "      <td>writeback</td>\n",
       "      <td>notail</td>\n",
       "      <td>deadline</td>\n",
       "      <td>500sas</td>\n",
       "      <td>15524.33</td>\n",
       "      <td>Web</td>\n",
       "    </tr>\n",
       "    <tr>\n",
       "      <th>24886</th>\n",
       "      <td>reiserfs</td>\n",
       "      <td>4096</td>\n",
       "      <td>none</td>\n",
       "      <td>none</td>\n",
       "      <td>noatime</td>\n",
       "      <td>writeback</td>\n",
       "      <td>notail</td>\n",
       "      <td>deadline</td>\n",
       "      <td>ssd</td>\n",
       "      <td>15487.33</td>\n",
       "      <td>Web</td>\n",
       "    </tr>\n",
       "    <tr>\n",
       "      <th>24887</th>\n",
       "      <td>reiserfs</td>\n",
       "      <td>4096</td>\n",
       "      <td>none</td>\n",
       "      <td>none</td>\n",
       "      <td>noatime</td>\n",
       "      <td>writeback</td>\n",
       "      <td>notail</td>\n",
       "      <td>deadline</td>\n",
       "      <td>sata</td>\n",
       "      <td>15387.67</td>\n",
       "      <td>Web</td>\n",
       "    </tr>\n",
       "  </tbody>\n",
       "</table>\n",
       "</div>"
      ],
      "text/plain": [
       "      File System  Block Size Inode Size Block Group Atime Option  \\\n",
       "24883    reiserfs        4096       none        none      noatime   \n",
       "24884    reiserfs        4096       none        none      noatime   \n",
       "24885    reiserfs        4096       none        none      noatime   \n",
       "24886    reiserfs        4096       none        none      noatime   \n",
       "24887    reiserfs        4096       none        none      noatime   \n",
       "\n",
       "      Journal Option Special Option I/O Scheduler  Device  Throughput Workload  \n",
       "24883      writeback         notail           cfq    sata    15435.67      Web  \n",
       "24884      writeback         notail      deadline     sas    15268.67      Web  \n",
       "24885      writeback         notail      deadline  500sas    15524.33      Web  \n",
       "24886      writeback         notail      deadline     ssd    15487.33      Web  \n",
       "24887      writeback         notail      deadline    sata    15387.67      Web  "
      ]
     },
     "execution_count": 8,
     "metadata": {},
     "output_type": "execute_result"
    }
   ],
   "source": [
    "data_new.tail()"
   ]
  },
  {
   "cell_type": "code",
   "execution_count": 9,
   "metadata": {},
   "outputs": [],
   "source": [
    "data_new.to_csv('systems_data.csv')"
   ]
  },
  {
   "cell_type": "code",
   "execution_count": null,
   "metadata": {},
   "outputs": [],
   "source": []
  }
 ],
 "metadata": {
  "kernelspec": {
   "display_name": "Python 3",
   "language": "python",
   "name": "python3"
  },
  "language_info": {
   "codemirror_mode": {
    "name": "ipython",
    "version": 3
   },
   "file_extension": ".py",
   "mimetype": "text/x-python",
   "name": "python",
   "nbconvert_exporter": "python",
   "pygments_lexer": "ipython3",
   "version": "3.5.2"
  }
 },
 "nbformat": 4,
 "nbformat_minor": 2
}
