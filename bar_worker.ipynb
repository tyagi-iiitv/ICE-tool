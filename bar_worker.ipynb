{
 "cells": [
  {
   "cell_type": "code",
   "execution_count": 94,
   "metadata": {},
   "outputs": [],
   "source": [
    "import pandas as pd\n",
    "import numpy as np\n",
    "import json"
   ]
  },
  {
   "cell_type": "code",
   "execution_count": 95,
   "metadata": {},
   "outputs": [],
   "source": [
    "columns = ['Workload', 'File System','Block Size','Inode Size','Block Group', 'Atime Option','Journal Option','Special Option','IO Scheduler','Device','Thp Max','Thp Min','Thp Range']"
   ]
  },
  {
   "cell_type": "code",
   "execution_count": 96,
   "metadata": {},
   "outputs": [],
   "source": [
    "data = pd.read_csv('dataset/results.csv', usecols=columns)"
   ]
  },
  {
   "cell_type": "code",
   "execution_count": 97,
   "metadata": {},
   "outputs": [],
   "source": [
    "unique_values = {}\n",
    "for item in columns[:-3]:\n",
    "    unique_items = list(data[item].unique())\n",
    "    unique_items.remove('*')\n",
    "    unique_values[item] = unique_items"
   ]
  },
  {
   "cell_type": "code",
   "execution_count": 98,
   "metadata": {},
   "outputs": [
    {
     "data": {
      "text/plain": [
       "{'Atime Option': ['noatime', 'none'],\n",
       " 'Block Group': ['128', '16', '2', '256', '32', '4', '64', '8', 'none'],\n",
       " 'Block Size': ['1024', '2048', '4096'],\n",
       " 'Device': ['500sas', 'sas', 'sata', 'ssd'],\n",
       " 'File System': ['btrfs', 'ext2', 'ext3', 'ext4', 'nilfs2', 'reiserfs', 'xfs'],\n",
       " 'IO Scheduler': ['cfq', 'deadline', 'noop'],\n",
       " 'Inode Size': ['1024', '128', '2048', '256', '4096', '512', '8192', 'none'],\n",
       " 'Journal Option': ['journal', 'none', 'ordered', 'writeback'],\n",
       " 'Special Option': ['compress', 'nodatacow', 'nodatasum', 'none', 'notail'],\n",
       " 'Workload': ['Data', 'File', 'Mail', 'Web']}"
      ]
     },
     "execution_count": 98,
     "metadata": {},
     "output_type": "execute_result"
    }
   ],
   "source": [
    "unique_values"
   ]
  },
  {
   "cell_type": "code",
   "execution_count": 99,
   "metadata": {},
   "outputs": [],
   "source": [
    "column_received = 'Workload'\n",
    "value_received = 'Data'\n",
    "switch_received = 'on'"
   ]
  },
  {
   "cell_type": "code",
   "execution_count": 100,
   "metadata": {},
   "outputs": [],
   "source": [
    "if switch_received == 'off':\n",
    "    unique_values[column_received].remove(value_received)\n",
    "else:\n",
    "    unique_values[column_received].append(value_received)"
   ]
  },
  {
   "cell_type": "code",
   "execution_count": 102,
   "metadata": {},
   "outputs": [],
   "source": [
    "filtered_data = data\n",
    "for item in columns[:-3]:\n",
    "    if unique_values[item]:\n",
    "        filtered_data = filtered_data[filtered_data[item].isin(unique_values[item])]\n",
    "    else:\n",
    "        print(item)\n",
    "        filtered_data = filtered_data[filtered_data[item] == '*']"
   ]
  },
  {
   "cell_type": "code",
   "execution_count": 104,
   "metadata": {},
   "outputs": [
    {
     "data": {
      "text/html": [
       "<div>\n",
       "<style scoped>\n",
       "    .dataframe tbody tr th:only-of-type {\n",
       "        vertical-align: middle;\n",
       "    }\n",
       "\n",
       "    .dataframe tbody tr th {\n",
       "        vertical-align: top;\n",
       "    }\n",
       "\n",
       "    .dataframe thead th {\n",
       "        text-align: right;\n",
       "    }\n",
       "</style>\n",
       "<table border=\"1\" class=\"dataframe\">\n",
       "  <thead>\n",
       "    <tr style=\"text-align: right;\">\n",
       "      <th></th>\n",
       "      <th>Workload</th>\n",
       "      <th>File System</th>\n",
       "      <th>Block Size</th>\n",
       "      <th>Inode Size</th>\n",
       "      <th>Block Group</th>\n",
       "      <th>Atime Option</th>\n",
       "      <th>Journal Option</th>\n",
       "      <th>Special Option</th>\n",
       "      <th>IO Scheduler</th>\n",
       "      <th>Device</th>\n",
       "      <th>Thp Min</th>\n",
       "      <th>Thp Max</th>\n",
       "      <th>Thp Range</th>\n",
       "    </tr>\n",
       "  </thead>\n",
       "  <tbody>\n",
       "    <tr>\n",
       "      <th>268282</th>\n",
       "      <td>Data</td>\n",
       "      <td>ext2</td>\n",
       "      <td>1024</td>\n",
       "      <td>256</td>\n",
       "      <td>8</td>\n",
       "      <td>none</td>\n",
       "      <td>none</td>\n",
       "      <td>none</td>\n",
       "      <td>noop</td>\n",
       "      <td>500sas</td>\n",
       "      <td>37571.67</td>\n",
       "      <td>37571.67</td>\n",
       "      <td>0.0</td>\n",
       "    </tr>\n",
       "    <tr>\n",
       "      <th>268283</th>\n",
       "      <td>Data</td>\n",
       "      <td>ext2</td>\n",
       "      <td>1024</td>\n",
       "      <td>256</td>\n",
       "      <td>none</td>\n",
       "      <td>noatime</td>\n",
       "      <td>none</td>\n",
       "      <td>none</td>\n",
       "      <td>cfq</td>\n",
       "      <td>ssd</td>\n",
       "      <td>40503.00</td>\n",
       "      <td>40503.00</td>\n",
       "      <td>0.0</td>\n",
       "    </tr>\n",
       "    <tr>\n",
       "      <th>268284</th>\n",
       "      <td>Data</td>\n",
       "      <td>ext2</td>\n",
       "      <td>2048</td>\n",
       "      <td>128</td>\n",
       "      <td>2</td>\n",
       "      <td>none</td>\n",
       "      <td>none</td>\n",
       "      <td>none</td>\n",
       "      <td>deadline</td>\n",
       "      <td>sata</td>\n",
       "      <td>40712.67</td>\n",
       "      <td>40712.67</td>\n",
       "      <td>0.0</td>\n",
       "    </tr>\n",
       "    <tr>\n",
       "      <th>268285</th>\n",
       "      <td>Data</td>\n",
       "      <td>ext2</td>\n",
       "      <td>2048</td>\n",
       "      <td>2048</td>\n",
       "      <td>8</td>\n",
       "      <td>noatime</td>\n",
       "      <td>none</td>\n",
       "      <td>none</td>\n",
       "      <td>deadline</td>\n",
       "      <td>sas</td>\n",
       "      <td>37264.67</td>\n",
       "      <td>37264.67</td>\n",
       "      <td>0.0</td>\n",
       "    </tr>\n",
       "    <tr>\n",
       "      <th>268286</th>\n",
       "      <td>Data</td>\n",
       "      <td>ext2</td>\n",
       "      <td>2048</td>\n",
       "      <td>256</td>\n",
       "      <td>8</td>\n",
       "      <td>noatime</td>\n",
       "      <td>none</td>\n",
       "      <td>none</td>\n",
       "      <td>noop</td>\n",
       "      <td>500sas</td>\n",
       "      <td>38100.00</td>\n",
       "      <td>38100.00</td>\n",
       "      <td>0.0</td>\n",
       "    </tr>\n",
       "  </tbody>\n",
       "</table>\n",
       "</div>"
      ],
      "text/plain": [
       "       Workload File System Block Size Inode Size Block Group Atime Option  \\\n",
       "268282     Data        ext2       1024        256           8         none   \n",
       "268283     Data        ext2       1024        256        none      noatime   \n",
       "268284     Data        ext2       2048        128           2         none   \n",
       "268285     Data        ext2       2048       2048           8      noatime   \n",
       "268286     Data        ext2       2048        256           8      noatime   \n",
       "\n",
       "       Journal Option Special Option IO Scheduler  Device   Thp Min   Thp Max  \\\n",
       "268282           none           none         noop  500sas  37571.67  37571.67   \n",
       "268283           none           none          cfq     ssd  40503.00  40503.00   \n",
       "268284           none           none     deadline    sata  40712.67  40712.67   \n",
       "268285           none           none     deadline     sas  37264.67  37264.67   \n",
       "268286           none           none         noop  500sas  38100.00  38100.00   \n",
       "\n",
       "        Thp Range  \n",
       "268282        0.0  \n",
       "268283        0.0  \n",
       "268284        0.0  \n",
       "268285        0.0  \n",
       "268286        0.0  "
      ]
     },
     "execution_count": 104,
     "metadata": {},
     "output_type": "execute_result"
    }
   ],
   "source": [
    "filtered_data.head()"
   ]
  },
  {
   "cell_type": "code",
   "execution_count": 105,
   "metadata": {},
   "outputs": [
    {
     "data": {
      "text/plain": [
       "41563.67"
      ]
     },
     "execution_count": 105,
     "metadata": {},
     "output_type": "execute_result"
    }
   ],
   "source": [
    "thp_max = filtered_data['Thp Max'].max()"
   ]
  },
  {
   "cell_type": "code",
   "execution_count": 106,
   "metadata": {},
   "outputs": [
    {
     "data": {
      "text/plain": [
       "294.12"
      ]
     },
     "execution_count": 106,
     "metadata": {},
     "output_type": "execute_result"
    }
   ],
   "source": [
    "thp_min = filtered_data['Thp Min'].min()"
   ]
  },
  {
   "cell_type": "code",
   "execution_count": null,
   "metadata": {},
   "outputs": [],
   "source": [
    "thp_range = thp_max - thp_min"
   ]
  }
 ],
 "metadata": {
  "kernelspec": {
   "display_name": "Python 3",
   "language": "python",
   "name": "python3"
  },
  "language_info": {
   "codemirror_mode": {
    "name": "ipython",
    "version": 3
   },
   "file_extension": ".py",
   "mimetype": "text/x-python",
   "name": "python",
   "nbconvert_exporter": "python",
   "pygments_lexer": "ipython3",
   "version": "3.5.2"
  }
 },
 "nbformat": 4,
 "nbformat_minor": 2
}
